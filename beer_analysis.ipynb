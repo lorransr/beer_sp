{
  "cells": [
    {
      "metadata": {
        "trusted": true
      },
      "cell_type": "code",
      "source": "import pandas as pd\nimport numpy as np\nimport seaborn as sns\nimport altair as alt\n",
      "execution_count": 1,
      "outputs": [
        {
          "output_type": "stream",
          "text": "/home/nbuser/anaconda3_501/lib/python3.6/site-packages/matplotlib/font_manager.py:229: UserWarning: Matplotlib is building the font cache using fc-list. This may take a moment.\n  'Matplotlib is building the font cache using fc-list. '\n",
          "name": "stderr"
        }
      ]
    },
    {
      "metadata": {
        "trusted": true
      },
      "cell_type": "code",
      "source": "url = \"https://raw.githubusercontent.com/lorransr/beer_sp/master/Consumo_cerveja.csv\"\nraw = pd.read_csv(url)",
      "execution_count": 29,
      "outputs": []
    },
    {
      "metadata": {
        "trusted": true
      },
      "cell_type": "code",
      "source": "raw.head()",
      "execution_count": 30,
      "outputs": [
        {
          "output_type": "execute_result",
          "execution_count": 30,
          "data": {
            "text/html": "<div>\n<style scoped>\n    .dataframe tbody tr th:only-of-type {\n        vertical-align: middle;\n    }\n\n    .dataframe tbody tr th {\n        vertical-align: top;\n    }\n\n    .dataframe thead th {\n        text-align: right;\n    }\n</style>\n<table border=\"1\" class=\"dataframe\">\n  <thead>\n    <tr style=\"text-align: right;\">\n      <th></th>\n      <th>Data</th>\n      <th>Temperatura Media (C)</th>\n      <th>Temperatura Minima (C)</th>\n      <th>Temperatura Maxima (C)</th>\n      <th>Precipitacao (mm)</th>\n      <th>Final de Semana</th>\n      <th>Consumo de cerveja (litros)</th>\n    </tr>\n  </thead>\n  <tbody>\n    <tr>\n      <th>0</th>\n      <td>2015-01-01</td>\n      <td>27,3</td>\n      <td>23,9</td>\n      <td>32,5</td>\n      <td>0</td>\n      <td>0.0</td>\n      <td>25.461</td>\n    </tr>\n    <tr>\n      <th>1</th>\n      <td>2015-01-02</td>\n      <td>27,02</td>\n      <td>24,5</td>\n      <td>33,5</td>\n      <td>0</td>\n      <td>0.0</td>\n      <td>28.972</td>\n    </tr>\n    <tr>\n      <th>2</th>\n      <td>2015-01-03</td>\n      <td>24,82</td>\n      <td>22,4</td>\n      <td>29,9</td>\n      <td>0</td>\n      <td>1.0</td>\n      <td>30.814</td>\n    </tr>\n    <tr>\n      <th>3</th>\n      <td>2015-01-04</td>\n      <td>23,98</td>\n      <td>21,5</td>\n      <td>28,6</td>\n      <td>1,2</td>\n      <td>1.0</td>\n      <td>29.799</td>\n    </tr>\n    <tr>\n      <th>4</th>\n      <td>2015-01-05</td>\n      <td>23,82</td>\n      <td>21</td>\n      <td>28,3</td>\n      <td>0</td>\n      <td>0.0</td>\n      <td>28.900</td>\n    </tr>\n  </tbody>\n</table>\n</div>",
            "text/plain": "         Data Temperatura Media (C) Temperatura Minima (C)  \\\n0  2015-01-01                  27,3                   23,9   \n1  2015-01-02                 27,02                   24,5   \n2  2015-01-03                 24,82                   22,4   \n3  2015-01-04                 23,98                   21,5   \n4  2015-01-05                 23,82                     21   \n\n  Temperatura Maxima (C) Precipitacao (mm)  Final de Semana  \\\n0                   32,5                 0              0.0   \n1                   33,5                 0              0.0   \n2                   29,9                 0              1.0   \n3                   28,6               1,2              1.0   \n4                   28,3                 0              0.0   \n\n   Consumo de cerveja (litros)  \n0                       25.461  \n1                       28.972  \n2                       30.814  \n3                       29.799  \n4                       28.900  "
          },
          "metadata": {}
        }
      ]
    },
    {
      "metadata": {
        "trusted": true
      },
      "cell_type": "code",
      "source": "df = raw\ndf.columns = [\"data\",\"t_media\",\"t_minima\",\"t_maxima\", \"precipitacao\", \"fim_de_semana\",\"consumo\"]",
      "execution_count": 31,
      "outputs": []
    },
    {
      "metadata": {
        "trusted": true
      },
      "cell_type": "code",
      "source": "df.dtypes",
      "execution_count": 32,
      "outputs": [
        {
          "output_type": "execute_result",
          "execution_count": 32,
          "data": {
            "text/plain": "data              object\nt_media           object\nt_minima          object\nt_maxima          object\nprecipitacao      object\nfim_de_semana    float64\nconsumo          float64\ndtype: object"
          },
          "metadata": {}
        }
      ]
    },
    {
      "metadata": {
        "trusted": true
      },
      "cell_type": "code",
      "source": "import datetime\ndf.data = pd.to_datetime(df.data)",
      "execution_count": 33,
      "outputs": []
    },
    {
      "metadata": {
        "trusted": true
      },
      "cell_type": "code",
      "source": "df[\"mes\"] = df.data.dt.month\ndf[\"dia\"] = df.data.dt.day\ndf[\"dia_semana\"] = df.data.dt.dayofweek",
      "execution_count": 41,
      "outputs": []
    },
    {
      "metadata": {
        "trusted": true
      },
      "cell_type": "code",
      "source": "dia_semana_nome = {0:\"segunda-feira\",1:\"terça-feira\",2:\"quarta-feira\",3:\"quinta-feira\",4:\"sexta-feira\",5:\"sabado\",6:\"domingo\"}",
      "execution_count": 47,
      "outputs": []
    },
    {
      "metadata": {
        "trusted": true
      },
      "cell_type": "code",
      "source": "df[\"dia_semana_nome\"] = df['dia_semana'].map(dia_semana_nome) ",
      "execution_count": 48,
      "outputs": []
    },
    {
      "metadata": {
        "trusted": true
      },
      "cell_type": "code",
      "source": "df.head()",
      "execution_count": 49,
      "outputs": [
        {
          "output_type": "execute_result",
          "execution_count": 49,
          "data": {
            "text/html": "<div>\n<style scoped>\n    .dataframe tbody tr th:only-of-type {\n        vertical-align: middle;\n    }\n\n    .dataframe tbody tr th {\n        vertical-align: top;\n    }\n\n    .dataframe thead th {\n        text-align: right;\n    }\n</style>\n<table border=\"1\" class=\"dataframe\">\n  <thead>\n    <tr style=\"text-align: right;\">\n      <th></th>\n      <th>data</th>\n      <th>t_media</th>\n      <th>t_minima</th>\n      <th>t_maxima</th>\n      <th>precipitacao</th>\n      <th>fim_de_semana</th>\n      <th>consumo</th>\n      <th>mes</th>\n      <th>dia</th>\n      <th>dia_semana</th>\n      <th>dia_semana_nome</th>\n    </tr>\n  </thead>\n  <tbody>\n    <tr>\n      <th>0</th>\n      <td>2015-01-01</td>\n      <td>27,3</td>\n      <td>23,9</td>\n      <td>32,5</td>\n      <td>0</td>\n      <td>0.0</td>\n      <td>25.461</td>\n      <td>1.0</td>\n      <td>1.0</td>\n      <td>3.0</td>\n      <td>quinta-feira</td>\n    </tr>\n    <tr>\n      <th>1</th>\n      <td>2015-01-02</td>\n      <td>27,02</td>\n      <td>24,5</td>\n      <td>33,5</td>\n      <td>0</td>\n      <td>0.0</td>\n      <td>28.972</td>\n      <td>1.0</td>\n      <td>2.0</td>\n      <td>4.0</td>\n      <td>sexta-feira</td>\n    </tr>\n    <tr>\n      <th>2</th>\n      <td>2015-01-03</td>\n      <td>24,82</td>\n      <td>22,4</td>\n      <td>29,9</td>\n      <td>0</td>\n      <td>1.0</td>\n      <td>30.814</td>\n      <td>1.0</td>\n      <td>3.0</td>\n      <td>5.0</td>\n      <td>sabado</td>\n    </tr>\n    <tr>\n      <th>3</th>\n      <td>2015-01-04</td>\n      <td>23,98</td>\n      <td>21,5</td>\n      <td>28,6</td>\n      <td>1,2</td>\n      <td>1.0</td>\n      <td>29.799</td>\n      <td>1.0</td>\n      <td>4.0</td>\n      <td>6.0</td>\n      <td>domingo</td>\n    </tr>\n    <tr>\n      <th>4</th>\n      <td>2015-01-05</td>\n      <td>23,82</td>\n      <td>21</td>\n      <td>28,3</td>\n      <td>0</td>\n      <td>0.0</td>\n      <td>28.900</td>\n      <td>1.0</td>\n      <td>5.0</td>\n      <td>0.0</td>\n      <td>segunda-feira</td>\n    </tr>\n  </tbody>\n</table>\n</div>",
            "text/plain": "        data t_media t_minima t_maxima precipitacao  fim_de_semana  consumo  \\\n0 2015-01-01    27,3     23,9     32,5            0            0.0   25.461   \n1 2015-01-02   27,02     24,5     33,5            0            0.0   28.972   \n2 2015-01-03   24,82     22,4     29,9            0            1.0   30.814   \n3 2015-01-04   23,98     21,5     28,6          1,2            1.0   29.799   \n4 2015-01-05   23,82       21     28,3            0            0.0   28.900   \n\n   mes  dia  dia_semana dia_semana_nome  \n0  1.0  1.0         3.0    quinta-feira  \n1  1.0  2.0         4.0     sexta-feira  \n2  1.0  3.0         5.0          sabado  \n3  1.0  4.0         6.0         domingo  \n4  1.0  5.0         0.0   segunda-feira  "
          },
          "metadata": {}
        }
      ]
    },
    {
      "metadata": {
        "trusted": true
      },
      "cell_type": "code",
      "source": "",
      "execution_count": null,
      "outputs": []
    }
  ],
  "metadata": {
    "kernelspec": {
      "name": "python36",
      "display_name": "Python 3.6",
      "language": "python"
    },
    "language_info": {
      "mimetype": "text/x-python",
      "nbconvert_exporter": "python",
      "name": "python",
      "pygments_lexer": "ipython3",
      "version": "3.6.6",
      "file_extension": ".py",
      "codemirror_mode": {
        "version": 3,
        "name": "ipython"
      }
    }
  },
  "nbformat": 4,
  "nbformat_minor": 1
}